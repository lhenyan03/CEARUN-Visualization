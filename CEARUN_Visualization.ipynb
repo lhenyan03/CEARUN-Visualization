{
  "nbformat": 4,
  "nbformat_minor": 0,
  "metadata": {
    "colab": {
      "provenance": [],
      "toc_visible": true
    },
    "kernelspec": {
      "name": "python3",
      "display_name": "Python 3"
    },
    "language_info": {
      "name": "python"
    }
  },
  "cells": [
    {
      "cell_type": "markdown",
      "source": [
        "#CEARUN Visualization\n",
        "\n",
        "---\n",
        "\n"
      ],
      "metadata": {
        "id": "sJOKeeJW2cr3"
      }
    },
    {
      "cell_type": "code",
      "execution_count": null,
      "metadata": {
        "colab": {
          "base_uri": "https://localhost:8080/"
        },
        "id": "MzfJtfh7C2rk",
        "outputId": "45dcbd3a-4874-48c0-f7ba-d04cd9dde71f"
      },
      "outputs": [
        {
          "output_type": "stream",
          "name": "stdout",
          "text": [
            "Requirement already satisfied: beautifulsoup4 in /usr/local/lib/python3.10/dist-packages (4.12.3)\n",
            "Requirement already satisfied: lxml in /usr/local/lib/python3.10/dist-packages (4.9.4)\n",
            "Requirement already satisfied: soupsieve>1.2 in /usr/local/lib/python3.10/dist-packages (from beautifulsoup4) (2.6)\n"
          ]
        }
      ],
      "source": [
        "pip install beautifulsoup4 lxml"
      ]
    },
    {
      "cell_type": "code",
      "source": [
        "# @title Imports\n",
        "import requests\n",
        "from bs4 import BeautifulSoup\n",
        "import re\n",
        "import matplotlib.pyplot as plt\n",
        "import numpy as np\n",
        "import pandas as pd\n",
        "from matplotlib.ticker import MultipleLocator, FuncFormatter\n",
        "from cycler import cycler\n"
      ],
      "metadata": {
        "id": "yKyQcfYUpMps",
        "cellView": "form"
      },
      "execution_count": null,
      "outputs": []
    },
    {
      "cell_type": "markdown",
      "source": [
        "# Extract The Data From the Website\n",
        "\n",
        "Change the HTML link for each test from the website [CEARUN](https://cearun.grc.nasa.gov/)"
      ],
      "metadata": {
        "id": "whxJaIXR2REj"
      }
    },
    {
      "cell_type": "code",
      "source": [
        "# Specify the URL of the HTML page\n",
        "url = 'https://cearun.grc.nasa.gov/OFILES/_______________9399.html'"
      ],
      "metadata": {
        "id": "TDbkBRgWKGgT"
      },
      "execution_count": null,
      "outputs": []
    },
    {
      "cell_type": "code",
      "source": [
        "# @title Reading the HTML File\n",
        "# Fetch the HTML content from the URL\n",
        "response = requests.get(url)\n",
        "\n",
        "# Check if the request was successful\n",
        "if response.status_code == 200:\n",
        "    # Parse the HTML content using BeautifulSoup\n",
        "    soup = BeautifulSoup(response.content, 'lxml')\n",
        "\n",
        "    # Print the title of the HTML document\n",
        "    print(f\"Title: {soup.title.string}\")\n",
        "\n",
        "    # Extract and print all paragraph tags\n",
        "    paragraphs = soup.find_all('pre')\n",
        "    for idx, paragraph in enumerate(paragraphs, start=1):\n",
        "        print(\"Extracted Text\")\n",
        "else:\n",
        "    print(f\"Failed to retrieve the HTML content. Status code: {response.status_code}\")\n"
      ],
      "metadata": {
        "colab": {
          "base_uri": "https://localhost:8080/"
        },
        "cellView": "form",
        "id": "N8vk6lC2A0BV",
        "outputId": "dda92096-4184-433b-9a6b-d6234903eadb"
      },
      "execution_count": null,
      "outputs": [
        {
          "output_type": "stream",
          "name": "stdout",
          "text": [
            "Failed to retrieve the HTML content. Status code: 404\n"
          ]
        }
      ]
    },
    {
      "cell_type": "code",
      "source": [
        "# @title Finding the Different Pressures\n",
        "# Find the main content element (assuming it's within a <pre> tag)\n",
        "main_content = soup.find('pre').get_text()\n",
        "\n",
        "# Split the content into lines\n",
        "lines = main_content.split('\\n')\n",
        "\n",
        "# Flag to indicate when to start capturing lines\n",
        "capture = False\n",
        "\n",
        "# List to hold the captured lines\n",
        "captured_lines = []\n",
        "\n",
        "#Create an Array For PSIA Values\n",
        "pressure_pattern = r\"p,psia= ([\\d\\s,]+)\"\n",
        "pressure_match = re.search(pressure_pattern, main_content)\n",
        "if pressure_match:\n",
        "    pressures = [int(p.strip()) for p in pressure_match.group(1).split(',')]\n",
        "    print(\"Pressures:\", pressures)\n"
      ],
      "metadata": {
        "id": "AW4KM7rypvjP",
        "colab": {
          "base_uri": "https://localhost:8080/",
          "height": 211
        },
        "outputId": "91aaa49f-dcc4-49e6-948b-ecaa10aaa15e",
        "cellView": "form"
      },
      "execution_count": null,
      "outputs": [
        {
          "output_type": "error",
          "ename": "NameError",
          "evalue": "name 'soup' is not defined",
          "traceback": [
            "\u001b[0;31m---------------------------------------------------------------------------\u001b[0m",
            "\u001b[0;31mNameError\u001b[0m                                 Traceback (most recent call last)",
            "\u001b[0;32m<ipython-input-5-57dab8919391>\u001b[0m in \u001b[0;36m<cell line: 3>\u001b[0;34m()\u001b[0m\n\u001b[1;32m      1\u001b[0m \u001b[0;31m# @title Finding the Different Pressures\u001b[0m\u001b[0;34m\u001b[0m\u001b[0;34m\u001b[0m\u001b[0m\n\u001b[1;32m      2\u001b[0m \u001b[0;31m# Find the main content element (assuming it's within a <pre> tag)\u001b[0m\u001b[0;34m\u001b[0m\u001b[0;34m\u001b[0m\u001b[0m\n\u001b[0;32m----> 3\u001b[0;31m \u001b[0mmain_content\u001b[0m \u001b[0;34m=\u001b[0m \u001b[0msoup\u001b[0m\u001b[0;34m.\u001b[0m\u001b[0mfind\u001b[0m\u001b[0;34m(\u001b[0m\u001b[0;34m'pre'\u001b[0m\u001b[0;34m)\u001b[0m\u001b[0;34m.\u001b[0m\u001b[0mget_text\u001b[0m\u001b[0;34m(\u001b[0m\u001b[0;34m)\u001b[0m\u001b[0;34m\u001b[0m\u001b[0;34m\u001b[0m\u001b[0m\n\u001b[0m\u001b[1;32m      4\u001b[0m \u001b[0;34m\u001b[0m\u001b[0m\n\u001b[1;32m      5\u001b[0m \u001b[0;31m# Split the content into lines\u001b[0m\u001b[0;34m\u001b[0m\u001b[0;34m\u001b[0m\u001b[0m\n",
            "\u001b[0;31mNameError\u001b[0m: name 'soup' is not defined"
          ]
        }
      ]
    },
    {
      "cell_type": "code",
      "source": [
        "# @title Parsing and Creating A DataFrame\n",
        "def extract_data(text):\n",
        "    # Define the pattern to match the required data\n",
        "    pattern = r\"Pin =\\s+([\\d\\.]+)\\s+PSIA.*?O/F=\\s+([\\d\\.]+).*?T, K\\s+([\\d\\.]+).*?CSTAR, M/SEC\\s+([\\d\\.]+).*?Isp, M/SEC\\s+((?:[\\d\\.]+\\s+){6}[\\d\\.]+)\"\n",
        "\n",
        "    # Find all matches in the text\n",
        "    matches = re.findall(pattern, text, re.DOTALL)\n",
        "\n",
        "    # Extract and structure the data\n",
        "    data = []\n",
        "    for match in matches:\n",
        "        pressure = float(match[0])\n",
        "        of_ratio = float(match[1])\n",
        "        chamber_temp = float(match[2])\n",
        "        cstar = float(match[3])\n",
        "        isp_values = [float(value) for value in match[4].split()]\n",
        "        data.append({\n",
        "            'Pressure (PSIA)': pressure,\n",
        "            'O/F Ratio': of_ratio,\n",
        "            'Chamber Temp (K)': chamber_temp,\n",
        "            'CSTAR (m/s)': cstar,\n",
        "            'Isp (s)': isp_values\n",
        "        })\n",
        "\n",
        "    return data\n",
        "\n",
        "# Example usage\n",
        "text = main_content\n",
        "\n",
        "# Extract data from text\n",
        "data = extract_data(text)\n",
        "\n",
        "# Convert to pandas DataFrame\n",
        "df = pd.DataFrame(data)\n",
        "\n",
        "indexes_to_drop = []\n",
        "i = 0\n",
        "while i < len(df):\n",
        "    pressure = df.loc[i, 'Pressure (PSIA)']\n",
        "    if pressure in pressures:\n",
        "        position = pressures.index(pressure)\n",
        "        isp_values = df.at[i, 'Isp (s)']\n",
        "        if isinstance(isp_values, float):  # Check if isp_values is a float\n",
        "            isp_values = [isp_values]  # Convert to list if it's a float\n",
        "        #Assigning the right ISP Value Based\n",
        "        if position < len(pressures):\n",
        "            if position < 6:\n",
        "                df.at[i, 'Isp (s)'] = isp_values[position + 1] / 9.80665\n",
        "                if i + 1 < len(df) and len(pressures) > 6:\n",
        "                    indexes_to_drop.append(i + 1)\n",
        "                    i += 2  # Skip the next index\n",
        "                else:\n",
        "                  i += 1\n",
        "            elif(position >= 6 and i < len(df) - 1):\n",
        "                df.at[i+1, 'Isp (s)'] = df.at[i+1, 'Isp (s)'][(position % 6) + 1] / 9.80665\n",
        "                indexes_to_drop.append(i)\n",
        "                i += 2  # Skip the next two indexes\n",
        "        else:\n",
        "            i += 1\n",
        "    else:\n",
        "        i += 1\n",
        "\n",
        "df = df.drop(indexes_to_drop)\n",
        "df.reset_index(drop=True, inplace=True)\n",
        "\n",
        "print(df.head(12), '\\n', '\\n', df.tail(12))"
      ],
      "metadata": {
        "id": "lt_vXqP9qqe2",
        "cellView": "form"
      },
      "execution_count": null,
      "outputs": []
    },
    {
      "cell_type": "markdown",
      "source": [
        "\n",
        "\n",
        "---\n",
        "\n",
        "\n",
        "# Chamber Temperature Graphs"
      ],
      "metadata": {
        "id": "RHMFBmm5e3oA"
      }
    },
    {
      "cell_type": "code",
      "source": [
        "# @title O/F Ratio vs Chamber Temperature for Different Pressures\n",
        "#Creates the colors for each plot\n",
        "colors = cycler('color', ['b', 'g', 'r', 'c', 'm', 'y', 'darkred', 'orangered', 'purple', 'pink', 'darkgreen', 'darkorange', 'lightblue'])\n",
        "plt.rc('axes', prop_cycle=colors) #Adds the colors to the graph\n",
        "\n",
        "plt.figure(figsize=(5, 5)) #figsize = (length, width)\n",
        "\n",
        "# Plotting the data\n",
        "for pressure in df['Pressure (PSIA)'].unique():\n",
        "    subset = df[df['Pressure (PSIA)'] == pressure]\n",
        "    plt.scatter(subset['O/F Ratio'], subset['Chamber Temp (K)'], label=f'Pin = {pressure} PSIA', s=12) # s=num is the size of the points\n",
        "    plt.plot(subset['O/F Ratio'], subset['Chamber Temp (K)'], lw = 1) # lw = num is the width of the plot line\n",
        "\n",
        "plt.xticks(df['O/F Ratio'].unique())\n",
        "plt.gca().yaxis.set_major_locator(MultipleLocator(10)) #the number represents the scale of the graph\n",
        "\n",
        "# Custom formatter to label every other tick on the y-axis\n",
        "#adjust the y % num == 0 to change the amount of labels on the y-axis\n",
        "#y % 50 will count by 50s\n",
        "def custom_formatter(y, pos):\n",
        "    if y % 50 == 0:\n",
        "        return f'{y}'\n",
        "    else:\n",
        "        return ''\n",
        "\n",
        "plt.gca().yaxis.set_major_formatter(FuncFormatter(custom_formatter)) #adds the custom axis labels to the graph\n",
        "\n",
        "plt.xlabel('O/F Ratio')\n",
        "plt.ylabel('Chamber Temp (K)')\n",
        "plt.title('O/F Ratio vs Chamber Temperature for Different Pressures')\n",
        "plt.legend(bbox_to_anchor=(1, 1), loc='upper left')\n",
        "plt.grid(True)"
      ],
      "metadata": {
        "id": "Cq1UOU_QtNnb",
        "cellView": "form"
      },
      "execution_count": null,
      "outputs": []
    },
    {
      "cell_type": "code",
      "source": [
        "# @title Individual Chamber Temperature for Different Pressures\n",
        "unique_pressures = df['Pressure (PSIA)'].unique()\n",
        "n = len(unique_pressures)\n",
        "\n",
        "fig, axs = plt.subplots(4, 3, figsize=(12, 12), sharey=True) #Will generate a 4x3 (lxw) table for the graphs with a size 12\n",
        "axs = axs.flatten()  # Flatten the 2D array of axes to make indexing easier\n",
        "\n",
        "#Plotting the Data\n",
        "for i, pressure in enumerate(unique_pressures):\n",
        "    subset = df[df['Pressure (PSIA)'] == pressure]\n",
        "    axs[i].scatter(subset['O/F Ratio'], subset['Chamber Temp (K)'], label=f'Pin = {pressure} PSIA', s=12)\n",
        "    axs[i].plot(subset['O/F Ratio'], subset['Chamber Temp (K)'], lw=1)\n",
        "    axs[i].yaxis.set_major_locator(MultipleLocator(25)) #Change number to change the scale of y-axis\n",
        "    axs[i].yaxis.set_major_formatter(FuncFormatter(custom_formatter)) #Uses the same formatter of the first graph to remove axis labels\n",
        "    axs[i].set_xticks(subset['O/F Ratio']) #Sets x-axis to match the number of o/f ratios\n",
        "    axs[i].set_xlabel('O/F Ratio')\n",
        "    axs[i].set_ylabel('Chamber Temp (K)')\n",
        "    axs[i].set_title(f'Pressure = {pressure} PSIA')\n",
        "    axs[i].grid(True)\n",
        "\n",
        "for j in range(i+1, len(axs)):\n",
        "    fig.delaxes(axs[j])\n",
        "\n",
        "plt.xticks(df['O/F Ratio'].unique())\n",
        "plt.tight_layout()\n",
        "plt.show()"
      ],
      "metadata": {
        "id": "_dLls98euXr2",
        "cellView": "form"
      },
      "execution_count": null,
      "outputs": []
    },
    {
      "cell_type": "code",
      "source": [
        "# @title Pressure vs Chamber Temperature for Different O/F Ratios\n",
        "# Plotting the data\n",
        "scatter_handles =[]\n",
        "plt.rc('axes', prop_cycle=colors)\n",
        "\n",
        "plt.figure(figsize=(5, 5))\n",
        "for of_ratio in df['O/F Ratio'].unique():\n",
        "    subset = df[df['O/F Ratio'] == of_ratio]\n",
        "#Creates the colors for each plot\n",
        "    scatter = plt.scatter(subset['Pressure (PSIA)'], subset['Chamber Temp (K)'], label=f'O/F = {of_ratio}', s=12) # s=num is the size of the points\n",
        "    plt.plot(subset['Pressure (PSIA)'], subset['Chamber Temp (K)'], label=f'O/F = {of_ratio}', lw=1)  # lw = num is the width of the plot line\n",
        "    scatter_handles.append(scatter)\n",
        "\n",
        "plt.xlabel('Pressure (PSIA)')\n",
        "plt.ylabel('Chamber Temp (K)')\n",
        "plt.title('Pressure (PSIA) vs Chamber Temperature for Different O/F')\n",
        "plt.xticks(df['Pressure (PSIA)'].unique())\n",
        "plt.gca().yaxis.set_major_locator(MultipleLocator(10)) #Scales y-axis by 10s\n",
        "plt.gca().yaxis.set_major_formatter(FuncFormatter(custom_formatter)) #Uses the first formatter (by 50's)\n",
        "plt.legend(handles=scatter_handles, bbox_to_anchor=(1, 1), loc='upper left')\n",
        "plt.grid(True)\n",
        "plt.show()"
      ],
      "metadata": {
        "id": "XzX_rwEuBWIt",
        "cellView": "form"
      },
      "execution_count": null,
      "outputs": []
    },
    {
      "cell_type": "code",
      "source": [
        "# @title Individual Chamber Temperature for Different O/F Ratios\n",
        "unique_of = df['O/F Ratio'].unique()\n",
        "n = len(unique_of)\n",
        "\n",
        "fig, axs = plt.subplots(5, 3, figsize=(12, 12), sharey=True) #Arranges the graphs by 5x3\n",
        "axs = axs.flatten()  # Flatten the 2D array of axes to make indexing easier\n",
        "\n",
        "for i, of_ratio in enumerate(unique_of[:len(axs)]):  # Limit to the number of subplots\n",
        "    subset = df[df['O/F Ratio'] == of_ratio]\n",
        "    axs[i].scatter(subset['Pressure (PSIA)'], subset['Chamber Temp (K)'], label=f'O/F Ratio = {of_ratio}', s=12) #s = size of points\n",
        "    axs[i].plot(subset['Pressure (PSIA)'], subset['Chamber Temp (K)'], lw=1) #lw = width of plot line\n",
        "    axs[i].yaxis.set_major_locator(MultipleLocator(50)) #counts by 50s\n",
        "    axs[i].yaxis.set_major_formatter(FuncFormatter(custom_formatter))\n",
        "    axs[i].set_xlabel('Pressure (PSIA)')\n",
        "    axs[i].set_ylabel('Chamber Temp (K)')\n",
        "    axs[i].set_title(f'Chamber Temperature for O/F {of_ratio}')\n",
        "    axs[i].grid(True)\n",
        "\n",
        "# If there are more subplots than data points, hide the extra subplots\n",
        "for j in range(i+1, len(axs)):\n",
        "    fig.delaxes(axs[j])\n",
        "\n",
        "plt.xticks(df['Pressure (PSIA)'].unique())\n",
        "\n",
        "plt.tight_layout()\n",
        "plt.show()"
      ],
      "metadata": {
        "id": "fdj0JktIDcCk",
        "cellView": "form"
      },
      "execution_count": null,
      "outputs": []
    },
    {
      "cell_type": "markdown",
      "source": [
        "\n",
        "\n",
        "---\n",
        "\n",
        "#ISP Graphs"
      ],
      "metadata": {
        "id": "5LSr8-APNGzh"
      }
    },
    {
      "cell_type": "code",
      "source": [
        "# @title O/F Ratio vs ISP For Different Pressures\n",
        "\n",
        "scatter_handles =[]\n",
        "plt.rc('axes', prop_cycle=colors) #adds the colors to the graph\n",
        "plt.figure(figsize=(5, 5))\n",
        "\n",
        "# Plotting the data\n",
        "for pressure in df['Pressure (PSIA)'].unique():\n",
        "    subset = df[df['Pressure (PSIA)'] == pressure]\n",
        "    scatter = plt.scatter(subset['O/F Ratio'], subset['Isp (s)'], label=f'Pin = {pressure} PSIA', s=12) #s = size of points\n",
        "    plt.plot(subset['O/F Ratio'], subset['Isp (s)'], label=f'Pin = {pressure} PSIA', lw=1) #lw = size of the line\n",
        "    scatter_handles.append(scatter)\n",
        "\n",
        "# Custom formatter to label every other tick on the y-axis\n",
        "#adjust the y % num == 0 to change the amount of labels on the y-axis\n",
        "#y % 50 will count by 50s\n",
        "def custom_formatter2(y, pos):\n",
        "    if y % 5 == 0:\n",
        "        return f'{y}'\n",
        "    else:\n",
        "        return ''\n",
        "\n",
        "plt.gca().yaxis.set_major_locator(MultipleLocator(1)) # scale of the axis is by 10s\n",
        "plt.gca().yaxis.set_major_formatter(FuncFormatter(custom_formatter2))\n",
        "plt.xticks(df['O/F Ratio'].unique())\n",
        "plt.xlabel('O/F Ratio')\n",
        "plt.ylabel('Isp (s)')\n",
        "plt.title('O/F Ratio vs Isp (s) for Different Pressures')\n",
        "plt.legend(handles=scatter_handles, bbox_to_anchor=(1, 1), loc='upper left')\n",
        "plt.grid(True)\n",
        "plt.show()"
      ],
      "metadata": {
        "id": "i3ZTMRypaq6I",
        "cellView": "form"
      },
      "execution_count": null,
      "outputs": []
    },
    {
      "cell_type": "code",
      "source": [
        "# @title Individual ISP For Different Pressures { display-mode: \"form\" }\n",
        "unique_pressures = df['Pressure (PSIA)'].unique()\n",
        "n = len(unique_pressures)\n",
        "\n",
        "fig, axs = plt.subplots(4, 3, figsize=(12, 12), sharey=True) # Displays the graphs in a 4x3 array\n",
        "axs = axs.flatten()  # Flatten the 2D array of axes to make indexing easier\n",
        "\n",
        "for i, pressure in enumerate(unique_pressures):\n",
        "    subset = df[df['Pressure (PSIA)'] == pressure]\n",
        "    axs[i].scatter(subset['O/F Ratio'], subset['Isp (s)'], label=f'Pin = {pressure} PSIA', s=12) # s = size of the points\n",
        "    axs[i].plot(subset['O/F Ratio'], subset['Isp (s)'], lw=1) #lw = width of the plot line\n",
        "    axs[i].yaxis.set_major_locator(MultipleLocator(1)) # y-axis scale is by 10\n",
        "    axs[i].yaxis.set_major_formatter(FuncFormatter(custom_formatter2))\n",
        "    axs[i].set_xticks(subset['O/F Ratio'])\n",
        "    axs[i].set_xlabel('O/F Ratio')\n",
        "    axs[i].set_ylabel('Isp (s)')\n",
        "    axs[i].set_title(f'Pressure = {pressure} PSIA')\n",
        "    axs[i].grid(True)\n",
        "\n",
        "# If there are more subplots than data points, hide the extra subplots\n",
        "for j in range(i+1, len(axs)):\n",
        "    fig.delaxes(axs[j])\n",
        "plt.tight_layout()\n",
        "plt.show()"
      ],
      "metadata": {
        "id": "aOgsVVChatqy"
      },
      "execution_count": null,
      "outputs": []
    },
    {
      "cell_type": "code",
      "source": [
        "# @title Pressure vs ISP For Different O/F Ratios\n",
        "plt.rc('axes', prop_cycle=colors) #Adds the colors to the graph\n",
        "scatter_handles =[]\n",
        "plt.figure(figsize=(5, 5)) # Size of graph\n",
        "\n",
        "# Plotting the data\n",
        "for of_ratio in df['O/F Ratio'].unique():\n",
        "    subset = df[df['O/F Ratio'] == of_ratio]\n",
        "    scatter = plt.scatter(subset['Pressure (PSIA)'], subset['Isp (s)'], label=f'O/F = {of_ratio}', s=12) #s = size of the points\n",
        "    plt.plot(subset['Pressure (PSIA)'], subset['Isp (s)'], label=f'O/F = {of_ratio}', lw=1) # lw = width of the line\n",
        "    scatter_handles.append(scatter)\n",
        "plt.xlabel('Pressure (PSIA)')\n",
        "plt.ylabel('Isp (s)')\n",
        "plt.title('Pressure (PSIA) vs Isp (s) for Different O/F')\n",
        "plt.gca().yaxis.set_major_locator(MultipleLocator(1)) #scales yaxis by 10\n",
        "plt.gca().yaxis.set_major_formatter(FuncFormatter(custom_formatter2))\n",
        "plt.legend(handles=scatter_handles, bbox_to_anchor=(1, 1), loc='upper left')\n",
        "plt.xticks(df['Pressure (PSIA)'].unique())\n",
        "plt.grid(True)\n",
        "plt.show()"
      ],
      "metadata": {
        "id": "Xgl8Cl4OazNe",
        "cellView": "form"
      },
      "execution_count": null,
      "outputs": []
    },
    {
      "cell_type": "code",
      "source": [
        "# @title Individual ISP For Different O/F Ratios\n",
        "fig, axs = plt.subplots(5, 3, figsize=(12, 12), sharey=True) #Creates an array of 5x3 of size 12 Graphs\n",
        "axs = axs.flatten()  # Flatten the 2D array of axes to make indexing easier\n",
        "\n",
        "for i, of_ratio in enumerate(unique_of[:len(axs)]):  # Limit to the number of subplots\n",
        "    subset = df[df['O/F Ratio'] == of_ratio]\n",
        "    axs[i].scatter(subset['Pressure (PSIA)'], subset['Isp (s)'], label=f'O/F Ratio = {of_ratio}', s=12) #s = size of the point\n",
        "    axs[i].plot(subset['Pressure (PSIA)'], subset['Isp (s)'], lw=1) # lw = width of the plot line\n",
        "    axs[i].yaxis.set_major_locator(MultipleLocator(1)) # scales y-axis by 10\n",
        "    axs[i].yaxis.set_major_formatter(FuncFormatter(custom_formatter2))\n",
        "    axs[i].set_xlabel('Pressure (PSIA)')\n",
        "    axs[i].set_ylabel('Isp (s)')\n",
        "    axs[i].set_title(f'Isp (s) for O/F {of_ratio}')\n",
        "    axs[i].grid(True)\n",
        "    axs[i].set_xticks(subset['Pressure (PSIA)'])  # Set x-axis ticks based on Pressure (PSIA) values\n",
        "\n",
        "\n",
        "# If there are more subplots than data points, hide the extra subplots\n",
        "for j in range(i+1, len(axs)):\n",
        "    fig.delaxes(axs[j])\n",
        "\n",
        "plt.xticks(df['Pressure (PSIA)'].unique())\n",
        "plt.tight_layout()\n",
        "plt.show()"
      ],
      "metadata": {
        "id": "5Qa1t7geazgg",
        "cellView": "form"
      },
      "execution_count": null,
      "outputs": []
    },
    {
      "cell_type": "markdown",
      "source": [
        "\n",
        "\n",
        "---\n",
        "\n",
        "#CSTAR Graphs"
      ],
      "metadata": {
        "id": "P81XGtgiNLdP"
      }
    },
    {
      "cell_type": "code",
      "source": [
        "# @title O/F Ratio vs CSTAR For Different Pressures\n",
        "scatter_handles =[]\n",
        "plt.rc('axes', prop_cycle=colors)\n",
        "plt.figure(figsize=(5, 5))\n",
        "\n",
        "# Plotting the data\n",
        "for pressure in df['Pressure (PSIA)'].unique():\n",
        "    subset = df[df['Pressure (PSIA)'] == pressure]\n",
        "    scatter = plt.scatter(subset['O/F Ratio'], subset['CSTAR (m/s)'], label=f'Pin = {pressure} PSIA', s=12) #s = size of the points\n",
        "    plt.plot(subset['O/F Ratio'], subset['CSTAR (m/s)'], label=f'Pin = {pressure} PSIA', lw = 1) # lw = width of the plot line\n",
        "    scatter_handles.append(scatter)\n",
        "\n",
        "plt.xlabel('O/F Ratio')\n",
        "plt.ylabel('CSTAR (m/s)')\n",
        "plt.title('O/F Ratio vs CSTAR for Different Pressures')\n",
        "\n",
        "#Creating a new custom formatter to adjust for the scale of this graph\n",
        "#Change the y % 10 to adjust the scale of the labels shown\n",
        "def custom_formatter3(y, pos):\n",
        "    if y % 10 == 0:\n",
        "        return f'{y}'\n",
        "    else:\n",
        "        return ''\n",
        "\n",
        "plt.xticks(df['O/F Ratio'].unique())\n",
        "plt.gca().yaxis.set_major_locator(MultipleLocator(2)) # scaling y-axis by 2\n",
        "plt.gca().yaxis.set_major_formatter(FuncFormatter(custom_formatter3))\n",
        "plt.legend(handles=scatter_handles, bbox_to_anchor=(1, 1), loc='upper left')\n",
        "plt.grid(True)\n",
        "plt.show()"
      ],
      "metadata": {
        "id": "LyADDrtUOAUY",
        "cellView": "form"
      },
      "execution_count": null,
      "outputs": []
    },
    {
      "cell_type": "code",
      "source": [
        "# @title Individual CSTAR For Different Pressures\n",
        "fig, axs = plt.subplots(4, 3, figsize=(12, 12), sharey=True) #Creates an array of 4x3 of size 12 graphs\n",
        "axs = axs.flatten()  # Flatten the 2D array of axes to make indexing easier\n",
        "\n",
        "#Plotting the Data\n",
        "for i, pressure in enumerate(unique_pressures):\n",
        "    subset = df[df['Pressure (PSIA)'] == pressure]\n",
        "    axs[i].scatter(subset['O/F Ratio'], subset['CSTAR (m/s)'], label=f'Pin = {pressure} PSIA', s=12) #s = size of the points\n",
        "    axs[i].plot(subset['O/F Ratio'], subset['CSTAR (m/s)'], lw=1) #lw = width of the plot line\n",
        "    axs[i].yaxis.set_major_locator(MultipleLocator(2)) # scales y-axis by 2\n",
        "    axs[i].yaxis.set_major_formatter(FuncFormatter(custom_formatter3))\n",
        "    axs[i].set_xticks(subset['O/F Ratio'])\n",
        "    axs[i].set_xlabel('O/F Ratio')\n",
        "    axs[i].set_ylabel('CSTAR (m/s))')\n",
        "    axs[i].set_title(f'Pressure = {pressure} PSIA')\n",
        "    axs[i].grid(True)\n",
        "\n",
        "# If there are more subplots than data points, hide the extra subplots\n",
        "for j in range(i+1, len(axs)):\n",
        "    fig.delaxes(axs[j])\n",
        "\n",
        "plt.tight_layout()\n",
        "plt.show()"
      ],
      "metadata": {
        "id": "tHAwRh8VPwm_",
        "cellView": "form"
      },
      "execution_count": null,
      "outputs": []
    },
    {
      "cell_type": "code",
      "source": [
        "# @title Pressure vs CSTAR For Different O/F Ratios\n",
        "scatter_handles =[]\n",
        "plt.rc('axes', prop_cycle=colors)\n",
        "plt.figure(figsize=(5, 5))\n",
        "\n",
        "# Plotting the data\n",
        "for of_ratio in df['O/F Ratio'].unique():\n",
        "    subset = df[df['O/F Ratio'] == of_ratio]\n",
        "    scatter = plt.scatter(subset['Pressure (PSIA)'], subset['CSTAR (m/s)'], label=f'O/F = {of_ratio}', s=12) #s = size of the point\n",
        "    plt.plot(subset['Pressure (PSIA)'], subset['CSTAR (m/s)'], label=f'O/F = {of_ratio}', lw = 1) #lw = width of the plot line\n",
        "    scatter_handles.append(scatter)\n",
        "\n",
        "\n",
        "plt.xlabel('Pressure (PSIA)')\n",
        "plt.ylabel('CSTAR (m/s)')\n",
        "plt.title('Pressure (PSIA) vs CSTAR for Different O/F')\n",
        "plt.gca().xaxis.set_major_locator(MultipleLocator(20)) #scales x-axis by 20s\n",
        "plt.gca().yaxis.set_major_locator(MultipleLocator(2)) #scales y-axis by 2s\n",
        "plt.gca().yaxis.set_major_formatter(FuncFormatter(custom_formatter3))\n",
        "plt.legend(handles=scatter_handles, bbox_to_anchor=(1, 1), loc='upper left')\n",
        "plt.grid(True)\n",
        "plt.xticks(df['Pressure (PSIA)'].unique())\n",
        "plt.show()"
      ],
      "metadata": {
        "id": "hFMsZlmkQX4A",
        "cellView": "form"
      },
      "execution_count": null,
      "outputs": []
    },
    {
      "cell_type": "code",
      "source": [
        "# @title Individual CSTAR For Different O/F Ratios\n",
        "fig, axs = plt.subplots(5, 3, figsize=(12, 12), sharey=True)\n",
        "axs = axs.flatten()  # Flatten the 2D array of axes to make indexing easier\n",
        "\n",
        "#Plotting the Data\n",
        "for i, of_ratio in enumerate(unique_of[:len(axs)]):  # Limit to the number of subplots\n",
        "    subset = df[df['O/F Ratio'] == of_ratio]\n",
        "    axs[i].scatter(subset['Pressure (PSIA)'], subset['CSTAR (m/s)'], label=f'O/F Ratio = {of_ratio}', s=12) #s= size of the points\n",
        "    axs[i].plot(subset['Pressure (PSIA)'], subset['CSTAR (m/s)'], lw=1) #lw = width of the plot line\n",
        "    axs[i].yaxis.set_major_locator(MultipleLocator(5)) # scales y-axis by 5s\n",
        "    axs[i].yaxis.set_major_formatter(FuncFormatter(custom_formatter3))\n",
        "    axs[i].set_xlabel('Pressure (PSIA)')\n",
        "    axs[i].set_ylabel('CSTAR (m/s)')\n",
        "    axs[i].set_title(f'CSTAR (m/s) for O/F {of_ratio}')\n",
        "    axs[i].grid(True)\n",
        "    axs[i].set_xticks(subset['Pressure (PSIA)'])\n",
        "\n",
        "# If there are more subplots than data points, hide the extra subplots\n",
        "for j in range(i+1, len(axs)):\n",
        "    fig.delaxes(axs[j])\n",
        "\n",
        "plt.tight_layout()\n",
        "plt.show()\n"
      ],
      "metadata": {
        "id": "TmGQy1BIQA1F",
        "cellView": "form"
      },
      "execution_count": null,
      "outputs": []
    }
  ]
}